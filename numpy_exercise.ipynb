{
 "cells": [
  {
   "cell_type": "markdown",
   "metadata": {},
   "source": [
    "# Numpy Exercise  <img src = \"numpy1.png\">\n",
    "###### Authored by T.K.Senthil Kumar"
   ]
  },
  {
   "cell_type": "markdown",
   "metadata": {},
   "source": [
    "#### 1. Create a numpy array with the number of elements equals your age. The value of array elements is a random number between 10 to your age "
   ]
  },
  {
   "cell_type": "code",
   "execution_count": 4,
   "metadata": {},
   "outputs": [
    {
     "data": {
      "text/plain": [
       "array([[44, 34, 31, 36, 41, 36, 23, 26, 44, 36, 27, 30, 13, 28, 41, 44,\n",
       "        34, 38, 19, 20, 38, 29, 24, 45, 24, 11, 19, 45, 43, 14, 24, 22,\n",
       "        30, 33, 20, 14, 18, 28, 45, 34, 12, 18, 35, 14, 33, 19]])"
      ]
     },
     "execution_count": 4,
     "metadata": {},
     "output_type": "execute_result"
    }
   ],
   "source": [
    "#Solution\n",
    "import numpy as np\n",
    "my_age = 46\n",
    "rand_num = np.random.randint(10,my_age, (1,my_age)) \n",
    "rand_num"
   ]
  },
  {
   "cell_type": "markdown",
   "metadata": {},
   "source": [
    "#### 2. Create a numpy array between 1 to 50 with the span(space) of 2 and print the length of the array"
   ]
  },
  {
   "cell_type": "code",
   "execution_count": 11,
   "metadata": {},
   "outputs": [
    {
     "data": {
      "text/plain": [
       "array([ 1,  3,  5,  7,  9, 11, 13, 15, 17, 19, 21, 23, 25, 27, 29, 31, 33,\n",
       "       35, 37, 39, 41, 43, 45, 47, 49])"
      ]
     },
     "execution_count": 11,
     "metadata": {},
     "output_type": "execute_result"
    }
   ],
   "source": [
    "# Solution\n",
    "arr1 = np.arange(1,50,2)\n",
    "arr1"
   ]
  },
  {
   "cell_type": "markdown",
   "metadata": {},
   "source": [
    "#### 3. Create an equally spaced numpy array with 27 elements between 4 and 7 "
   ]
  },
  {
   "cell_type": "code",
   "execution_count": 12,
   "metadata": {},
   "outputs": [
    {
     "data": {
      "text/plain": [
       "array([4.        , 4.11538462, 4.23076923, 4.34615385, 4.46153846,\n",
       "       4.57692308, 4.69230769, 4.80769231, 4.92307692, 5.03846154,\n",
       "       5.15384615, 5.26923077, 5.38461538, 5.5       , 5.61538462,\n",
       "       5.73076923, 5.84615385, 5.96153846, 6.07692308, 6.19230769,\n",
       "       6.30769231, 6.42307692, 6.53846154, 6.65384615, 6.76923077,\n",
       "       6.88461538, 7.        ])"
      ]
     },
     "execution_count": 12,
     "metadata": {},
     "output_type": "execute_result"
    }
   ],
   "source": [
    "# Solution\n",
    "arr2 = np.linspace(4,7,27)\n",
    "arr2"
   ]
  },
  {
   "cell_type": "markdown",
   "metadata": {},
   "source": [
    "#### 4. Create a matrix of size (5 x 4) with random numbers and round off the each elements by only 2 fractional points."
   ]
  },
  {
   "cell_type": "code",
   "execution_count": 26,
   "metadata": {},
   "outputs": [
    {
     "data": {
      "text/plain": [
       "array([[0.17, 0.56, 0.21, 0.17],\n",
       "       [0.62, 0.99, 0.83, 0.82],\n",
       "       [0.62, 0.2 , 0.07, 1.  ],\n",
       "       [0.92, 0.18, 0.66, 0.78],\n",
       "       [0.07, 0.9 , 0.3 , 0.83]])"
      ]
     },
     "execution_count": 26,
     "metadata": {},
     "output_type": "execute_result"
    }
   ],
   "source": [
    "# Solution\n",
    "rand_mat = np.random.rand(5,4)\n",
    "rand_mat = np.around(rand_mat, 2)\n",
    "rand_mat"
   ]
  },
  {
   "cell_type": "markdown",
   "metadata": {},
   "source": [
    "#### 5. Create a matrix of size (5x5) with random integers between 5 to 15"
   ]
  },
  {
   "cell_type": "code",
   "execution_count": 31,
   "metadata": {},
   "outputs": [
    {
     "data": {
      "text/plain": [
       "array([[ 6, 13, 13,  5,  5],\n",
       "       [ 8, 11,  7, 11,  5],\n",
       "       [11,  7, 14,  9,  7],\n",
       "       [10, 13, 12,  6, 10],\n",
       "       [14,  5, 12,  8, 11]])"
      ]
     },
     "execution_count": 31,
     "metadata": {},
     "output_type": "execute_result"
    }
   ],
   "source": [
    "# Solution\n",
    "rand_intmat = np.random.randint(5,15, (5,5))\n",
    "rand_intmat"
   ]
  },
  {
   "cell_type": "markdown",
   "metadata": {},
   "source": [
    "#### 6. Create the one dimensional array of zeros of random length below 20 with the data type int32"
   ]
  },
  {
   "cell_type": "code",
   "execution_count": 38,
   "metadata": {},
   "outputs": [
    {
     "name": "stdout",
     "output_type": "stream",
     "text": [
      "[0 0 0] int32\n"
     ]
    }
   ],
   "source": [
    "# Solution\n",
    "rand_zero = np.zeros(np.random.randint(1,20),dtype=int)\n",
    "print (rand_zero, rand_zero.dtype)"
   ]
  },
  {
   "cell_type": "markdown",
   "metadata": {},
   "source": [
    "#### 7. Create a two dimensional array of ones of random row and column lengths with the data type of float32 "
   ]
  },
  {
   "cell_type": "code",
   "execution_count": 42,
   "metadata": {},
   "outputs": [
    {
     "name": "stdout",
     "output_type": "stream",
     "text": [
      "[[1. 1. 1. ... 1. 1. 1.]\n",
      " [1. 1. 1. ... 1. 1. 1.]\n",
      " [1. 1. 1. ... 1. 1. 1.]\n",
      " ...\n",
      " [1. 1. 1. ... 1. 1. 1.]\n",
      " [1. 1. 1. ... 1. 1. 1.]\n",
      " [1. 1. 1. ... 1. 1. 1.]] float64 (59, 69)\n"
     ]
    }
   ],
   "source": [
    "# Solution\n",
    "# since the dimensions of the array itself is random,the maximum limit in the range (maximum number of rows / columns ) is assumed to be 100.   \n",
    "rand_ones = np.ones((np.random.randint(1,100),np.random.randint(1,100)),dtype=float)\n",
    "print (rand_ones, rand_ones.dtype, rand_ones.shape)"
   ]
  },
  {
   "cell_type": "markdown",
   "metadata": {},
   "source": [
    "#### 8. Create a matrix exactly as same as shown below and print its shape, type and dtype\n",
    "<img src = \"np_mat1.png\">"
   ]
  },
  {
   "cell_type": "code",
   "execution_count": 50,
   "metadata": {},
   "outputs": [
    {
     "name": "stdout",
     "output_type": "stream",
     "text": [
      "[[ 9 25 50 34 45]\n",
      " [ 3 34 34 65  2]\n",
      " [ 5  7  3 76  3]\n",
      " [ 7  8  6 54  6]\n",
      " [23 12  8  5  8]]\n",
      "The shape of the matrix is : (5, 5),     with type :  <class 'numpy.ndarray'>,    and the dtype is : int32\n"
     ]
    }
   ],
   "source": [
    "# Solution\n",
    "matrix1 = np.array([[9,25,50,34,45],\n",
    "                   [3,34,34,65,2],\n",
    "                   [5,7,3,76,3],\n",
    "                   [7,8,6,54,6],\n",
    "                   [23,12,8,5,8]])\n",
    "print(matrix1)\n",
    "print(f'The shape of the matrix is : {matrix1.shape},     with type :  {type(matrix1)},    and the dtype is : {matrix1.dtype}')"
   ]
  },
  {
   "cell_type": "markdown",
   "metadata": {},
   "source": [
    "#### 9. Access the center pixel of the matrix defined in the question no 8 ( Don't enter the row and column index explicitely)"
   ]
  },
  {
   "cell_type": "code",
   "execution_count": 72,
   "metadata": {},
   "outputs": [
    {
     "name": "stdout",
     "output_type": "stream",
     "text": [
      "The shape of the given matri is :  [5, 5]\n",
      "The center element is : 3\n"
     ]
    }
   ],
   "source": [
    "# Solution - A generic solution for identifying the central element of any matrix is proposed\n",
    "''' Next step checks if the dimensions (both number of rows and columns) is odd, only then there exists central element'''  \n",
    "shape = list(matrix1.shape)   # the dimensions of the matrix is captured in the variable 'shape' and is a list of numbers\n",
    "print('The shape of the given matri is : ',shape)\n",
    "if shape[0] == shape[1]:    # this checks if the number of rows & columns are equal\n",
    "    if (shape[0] % 2 == 1) and (shape[1] % 2 == 1):\n",
    "        center_row_col = int(shape[0]/2)  # the identifies the central element   \n",
    "        center_element = matrix1[center_row_col,center_row_col]\n",
    "        print ('The center element is :', center_element)\n",
    "        \n",
    "else: \n",
    "    print('The given matrix is either not square or has even number of rows and columns')\n",
    "    \n"
   ]
  },
  {
   "cell_type": "markdown",
   "metadata": {},
   "source": [
    "#### 10. Print the all the elements of 3rd row of the matrix"
   ]
  },
  {
   "cell_type": "code",
   "execution_count": 76,
   "metadata": {},
   "outputs": [
    {
     "name": "stdout",
     "output_type": "stream",
     "text": [
      "[ 5  7  3 76  3]\n"
     ]
    }
   ],
   "source": [
    "# Solution\n",
    "print(matrix1 [2,:]) # Third row - is index row 2 of the matrix (as the indexing starts at 0) and all columns is : "
   ]
  },
  {
   "cell_type": "markdown",
   "metadata": {},
   "source": [
    "#### 11. Print the all the elements of 4th columns of the matrix"
   ]
  },
  {
   "cell_type": "code",
   "execution_count": 77,
   "metadata": {},
   "outputs": [
    {
     "name": "stdout",
     "output_type": "stream",
     "text": [
      "[34 65 76 54  5]\n"
     ]
    }
   ],
   "source": [
    "# Solution\n",
    "print(matrix1 [:,3]) # All rows is : and 4th col of the matrix is indexed as 3rd col in the indexing (as the indexing starts at 0) \n"
   ]
  },
  {
   "cell_type": "markdown",
   "metadata": {},
   "source": [
    "#### 12. Print the 4 corner pixels of the matrix"
   ]
  },
  {
   "cell_type": "code",
   "execution_count": 88,
   "metadata": {},
   "outputs": [
    {
     "name": "stdout",
     "output_type": "stream",
     "text": [
      "        The top left corner element is    : 9\n",
      "        The top right corner element is   : 45\n",
      "        The bottom left corner element is : 23\n",
      "        The bottom right corner element is: 8\n"
     ]
    }
   ],
   "source": [
    "# Solution\n",
    "shape1 = matrix1.shape\n",
    "\n",
    "top_left = matrix1[0,0]\n",
    "top_right = matrix1[0,shape[1]-1]\n",
    "bottom_left = matrix1[shape[0]-1,0]\n",
    "bottom_right = matrix1[shape[0]-1, shape[1]-1]\n",
    "print(f'''        The top left corner element is    : {top_left}\n",
    "        The top right corner element is   : {top_right}\n",
    "        The bottom left corner element is : {bottom_left}\n",
    "        The bottom right corner element is: {bottom_right}'''\n",
    "        )"
   ]
  },
  {
   "cell_type": "markdown",
   "metadata": {},
   "source": [
    "#### 13. Create three matrix m1,m2,m3 with the elements grouped in the figure below\n",
    "<img src = \"np_mat2.png\">"
   ]
  },
  {
   "cell_type": "code",
   "execution_count": 104,
   "metadata": {},
   "outputs": [
    {
     "name": "stdout",
     "output_type": "stream",
     "text": [
      "m1 = \n",
      " [[50 34]\n",
      " [34 65]] \n",
      "\n",
      "m2 = \n",
      " [[ 7  8]\n",
      " [23 12]] \n",
      "\n",
      "m3 = \n",
      " [[ 3 76  3]\n",
      " [ 6 54  6]\n",
      " [ 8  5  8]]\n"
     ]
    }
   ],
   "source": [
    "# Solution \n",
    "m1 = matrix1[0:2,2:4]\n",
    "print ('m1 = \\n', m1, '\\n')\n",
    "\n",
    "m2 = matrix1[-2::,0:2]\n",
    "print ('m2 = \\n', m2,'\\n')\n",
    "\n",
    "m3 = matrix1 [2::,2::]\n",
    "print ('m3 = \\n', m3)"
   ]
  },
  {
   "cell_type": "markdown",
   "metadata": {},
   "source": [
    "#### 14. Reshape all the three matrix segmented in the above task in to three  1-dimensional vector."
   ]
  },
  {
   "cell_type": "code",
   "execution_count": 118,
   "metadata": {},
   "outputs": [
    {
     "name": "stdout",
     "output_type": "stream",
     "text": [
      "m1 matrix as row vector :  [[50 34 34 65]]\n",
      "m2 matrix as row vector :  [[ 7  8 23 12]]\n",
      "m3 matrix as row vector :  [[ 3 76  3  6 54  6  8  5  8]]\n"
     ]
    }
   ],
   "source": [
    "# Solution\n",
    "''' np.size() determines the total  number  of elements in the given matrix \n",
    "hence the number of columns in new 1 dimensional vector, this becomes the general solutions hence the usage'''\n",
    "\n",
    "m1_as_rowvector = m1.reshape(1,np.size(m1)) \n",
    "print('m1 matrix as row vector : ', m1_as_rowvector)\n",
    "\n",
    "m2_as_rowvector = m2.reshape(1,np.size(m2)) \n",
    "print('m2 matrix as row vector : ', m2_as_rowvector)\n",
    "\n",
    "\n",
    "m3_as_rowvector = m3.reshape(1,np.size(m3)) \n",
    "print('m3 matrix as row vector : ', m3_as_rowvector)\n"
   ]
  },
  {
   "cell_type": "markdown",
   "metadata": {},
   "source": [
    "# 15. Concatenate the matrix m1 and m2 in both vertical and horizontal direction"
   ]
  },
  {
   "cell_type": "code",
   "execution_count": 123,
   "metadata": {},
   "outputs": [
    {
     "name": "stdout",
     "output_type": "stream",
     "text": [
      "Concatenating with Axis = 0, matrices stacked one below the other - means No change in number of colums: \n",
      " [[50 34]\n",
      " [34 65]\n",
      " [ 7  8]\n",
      " [23 12]]\n",
      "Concatenating with Axis = 1, matrices stacked one after the other to the right - means No change in number of rows: \n",
      " [[50 34  7  8]\n",
      " [34 65 23 12]]\n"
     ]
    }
   ],
   "source": [
    "# Solution\n",
    "m1m2_row_wise = np.concatenate((m1,m2),axis = 0) # axis = 0 ensures concatenating m2 below m1 \n",
    "m1m2_col_wise = np.concatenate((m1,m2),axis = 1) # axis = 1 ensures concatenating m2 to the right of m1 \n",
    "print ('Concatenating with Axis = 0, matrices stacked one below the other - means No change in number of colums: \\n', m1m2_row_wise) \n",
    "print ('Concatenating with Axis = 1, matrices stacked one after the other to the right - means No change in number of rows: \\n', m1m2_col_wise)"
   ]
  },
  {
   "cell_type": "markdown",
   "metadata": {},
   "source": [
    "#### 16. Add, Subtract, multiply, divide the matrixes m1 and m2"
   ]
  },
  {
   "cell_type": "code",
   "execution_count": 136,
   "metadata": {},
   "outputs": [
    {
     "name": "stdout",
     "output_type": "stream",
     "text": [
      "Addition of m1 & m2 is : \n",
      "[[57 42]\n",
      " [57 77]]\n",
      "\n",
      "Subtraction of m1 & m2 is : \n",
      " [[43 26]\n",
      " [11 53]]\n",
      "\n",
      "Multiplication of m1 & m2 is :\n",
      " [[350 272]\n",
      " [782 780]]\n",
      "\n",
      "Division of m1 & m2 is : \n",
      " [[7.14285714 4.25      ]\n",
      " [1.47826087 5.41666667]]\n",
      "            \n"
     ]
    }
   ],
   "source": [
    "# Solution\n",
    "add_m1_m2 = m1 + m2\n",
    "sub_m1_m2 = m1 - m2\n",
    "mul_m1_m2 = m1 * m2  # this is element to element multiplication and is NOT matrix multiplication\n",
    "div_m1_m2 = m1 / m2\n",
    "\n",
    "print(f'''Addition of m1 & m2 is : \\n{add_m1_m2}\n",
    "\\nSubtraction of m1 & m2 is : \\n {sub_m1_m2}\n",
    "\\nMultiplication of m1 & m2 is :\\n {mul_m1_m2}\n",
    "\\nDivision of m1 & m2 is : \\n {div_m1_m2}\n",
    "            ''') \n"
   ]
  },
  {
   "cell_type": "markdown",
   "metadata": {},
   "source": [
    "#### 17. Add the m1 with m3 by removing the first row and last column of m3"
   ]
  },
  {
   "cell_type": "code",
   "execution_count": 153,
   "metadata": {},
   "outputs": [
    {
     "name": "stdout",
     "output_type": "stream",
     "text": [
      "The sum of m2 and selected portion of m3 (after deleting first row and last column is :\n",
      " [[13 62]\n",
      " [31 17]]\n"
     ]
    }
   ],
   "source": [
    "# Solution\n",
    "import numpy as np\n",
    "m3_extract = np.delete(m3, 0, 0)  # deleting the first row of m3\n",
    "m3_extract = np.delete(m3_extract, 2,1)    # deleting the last column\n",
    "m2_m3extract = m2 + m3_extract\n",
    "print('The sum of m2 and selected portion of m3 (after deleting first row and last column is :\\n', m2_m3extract)"
   ]
  },
  {
   "cell_type": "markdown",
   "metadata": {},
   "source": [
    "#### 18. Form the matrix m4 by concatenating (as a new row) the vector [me1, me2] with the matrix m1, where me1 and me2 are the mean values of each column on m1."
   ]
  },
  {
   "cell_type": "code",
   "execution_count": 169,
   "metadata": {},
   "outputs": [
    {
     "name": "stdout",
     "output_type": "stream",
     "text": [
      "The concatenated matrix of m1 with mean of the m1 (column wise) is :\n",
      " [[50.  34. ]\n",
      " [34.  65. ]\n",
      " [42.  49.5]]\n"
     ]
    }
   ],
   "source": [
    "# Solution\n",
    "import numpy as np\n",
    "me1 = m1.mean(axis = 1)\n",
    "me1 = me1.reshape(1,2)\n",
    "m4 = np.concatenate((m1,me1),axis=0)\n",
    "print(f'The concatenated matrix of m1 with mean of the m1 (column wise) is :\\n',m4)\n"
   ]
  },
  {
   "cell_type": "markdown",
   "metadata": {},
   "source": [
    "#### 19. Perform the matrix multiplication between m3 and m4"
   ]
  },
  {
   "cell_type": "code",
   "execution_count": 171,
   "metadata": {},
   "outputs": [
    {
     "name": "stdout",
     "output_type": "stream",
     "text": [
      " The matrix multiplication between, m3 and m4 is :\n",
      " [[2860.  5190.5]\n",
      " [2388.  4011. ]\n",
      " [ 906.   993. ]]\n"
     ]
    }
   ],
   "source": [
    "# Solution\n",
    "mat_prod = np.matmul(m3, m4)\n",
    "print(f' The matrix multiplication between, m3 and m4 is :\\n',mat_prod)"
   ]
  },
  {
   "cell_type": "markdown",
   "metadata": {},
   "source": [
    "#### 20. Compute the maximum and minimum value of mean, variance, standard deviation for each row of matrix created in question number 8."
   ]
  },
  {
   "cell_type": "code",
   "execution_count": 198,
   "metadata": {},
   "outputs": [
    {
     "name": "stdout",
     "output_type": "stream",
     "text": [
      "\n",
      "The maximum of row wise mean of the given matrix is : 32.6\n",
      "The minimum of row wise mean of the given matrix is : 11.2\n",
      "\n",
      "\n",
      "The maximum of row wise variance of the given matrix is : 820.16\n",
      "The minimum of row wise variance of the given matrix is : 39.76\n",
      "\n",
      "\n",
      "The maximum of row wise standard deviation of the given matrix is : 28.64\n",
      "The minimum of row wise standard deviation of the given matrix is : 6.31\n"
     ]
    }
   ],
   "source": [
    "# Solution\n",
    "matrix1 = np.array([[9,25,50,34,45],\n",
    "                   [3,34,34,65,2],\n",
    "                   [5,7,3,76,3],\n",
    "                   [7,8,6,54,6],\n",
    "                   [23,12,8,5,8]])\n",
    "\n",
    "# row wise mean and minimum & maximum of row wise mean of the given matrix\n",
    "matrix1_row_mean = matrix1.mean(axis = 1)\n",
    "#print(f'The row wise mean of the given matrix is :', matrix1_row_mean)\n",
    "row_mean_max = round(max(matrix1_row_mean),2)\n",
    "row_mean_min = round(min(matrix1_row_mean),2)\n",
    "print(f'\\nThe maximum of row wise mean of the given matrix is :', row_mean_max)\n",
    "print(f'The minimum of row wise mean of the given matrix is :', row_mean_min)\n",
    "\n",
    "# row wise variance and minimum & maximum of row wise variance of the given matrix\n",
    "matrix1_row_var = matrix1.var(axis = 1)\n",
    "#print(f'\\n\\nThe row wise variance of the given matrix is :', matrix1_row_var)\n",
    "row_var_max = round(max(matrix1_row_var),2)\n",
    "row_var_min = round(min(matrix1_row_var),2)\n",
    "print(f'\\n\\nThe maximum of row wise variance of the given matrix is :', row_var_max)\n",
    "print(f'The minimum of row wise variance of the given matrix is :', row_var_min)\n",
    "\n",
    "# row wise standard deviation and minimum & maximum of row wise standard deviation of the given matrix\n",
    "matrix1_row_std = (matrix1.std(axis = 1))\n",
    "#print(f'\\n\\nThe row wise standard deviation of the given matrix is :', matrix1_row_std)\n",
    "row_std_max = round(max(matrix1_row_std),2)\n",
    "row_std_min = round(min(matrix1_row_std),2)\n",
    "print(f'\\n\\nThe maximum of row wise standard deviation of the given matrix is :', row_std_max)\n",
    "print(f'The minimum of row wise standard deviation of the given matrix is :', row_std_min)"
   ]
  },
  {
   "cell_type": "markdown",
   "metadata": {},
   "source": [
    "#### 21. Compute the average and strike rate for each player and sort it decending way (seperately for avg and strike rate)\n",
    "<img src = 'crick1.png'>"
   ]
  },
  {
   "cell_type": "code",
   "execution_count": 246,
   "metadata": {},
   "outputs": [
    {
     "name": "stdout",
     "output_type": "stream",
     "text": [
      "[53.5  51.5  47.25 29.   13.25]\n",
      "Strike rate in descending order :  [161.11 101.42  98.44  94.93  49.53]\n"
     ]
    }
   ],
   "source": [
    "# Solution \n",
    "import numpy as np\n",
    "\n",
    "runs = np.array([[54,60,10,65],[102,2,78,32],[3,110,1,92],[56,6,12,42],[12,8,22,11]])\n",
    "balls_faced = np.array([[50,42,22,78],[95,8,65,43],[9,100,7,101],[27,3,11,31],[24,20,36,27]])\n",
    "\n",
    "# Average runs scored sorted in descending order\n",
    "avg = runs.mean(axis=1)  # mean runs scored for each player\n",
    "avg_sorted = np.sort(avg) # sorting the runs in ascending order\n",
    "reverse_avg_sort  = avg_sorted[::-1]  # sorting in descending order\n",
    "print((\"Average Run Rate, in descending order : \",reverse_avg_sort)\n",
    "\n",
    "sr = runs.sum(axis=1)*100/balls_faced.sum(axis=1)   # mean strike rate scored for each player\n",
    "sr_sort = np.sort(sr)                               # sorting the runs in ascending order\n",
    "reverse_sr_sort = np.around(sr_sort[::-1],2)        # sorting in descending order\n",
    "print(\"Strike rate, in descending order : \", reverse_sr_sort)"
   ]
  },
  {
   "cell_type": "markdown",
   "metadata": {},
   "source": [
    "#### 22. The students mark was recorded in a numpy array: marks = np.array([65,84,47,56,89,98,48,77,80,39]).  Cutoff for pass is 50 marks. Write the logic to print the number of students passed and failed. "
   ]
  },
  {
   "cell_type": "code",
   "execution_count": 269,
   "metadata": {},
   "outputs": [
    {
     "name": "stdout",
     "output_type": "stream",
     "text": [
      "Total number of candidates   : 10\n",
      "Number of candidates passed :  [7]\n",
      "Number of candidates failed :  [3]\n"
     ]
    }
   ],
   "source": [
    "# Solution\n",
    "\n",
    "marks = np.array([65,84,47,56,89,98,48,77,80,39])\n",
    "#print(marks.shape)\n",
    "marks = marks.reshape(len(marks),1) # converted into an arry of n (rows) x 1 (col)\n",
    "num_of_candidates = len(marks)      # number of candidates\n",
    "print('Total number of candidates   :',num_of_candidates)\n",
    "\n",
    "cutt_off = 50\n",
    "bool_marks = marks>=50       # check the elements that are greater than or equal to 50 and stores the truth value in variable bool_marks\n",
    "passed = bool_marks.sum(axis=0) # collects the number of candidates with truth value 'True', hence number of passed\n",
    "print('Number of candidates passed : ', passed)\n",
    "print('Number of candidates failed : ', len(marks)-passed)\n",
    "\n"
   ]
  },
  {
   "cell_type": "markdown",
   "metadata": {},
   "source": [
    "#### 23. The class incharge decided to give a mercy mark of 5 for those who scored between 45 and 49. Also the bonus of 5 marks awarded to the students who scored more than 80. Print all the student marks and compute the increase in the pass percentage of class. Any score more than 100 must be recorded as only 100."
   ]
  },
  {
   "cell_type": "code",
   "execution_count": 28,
   "metadata": {},
   "outputs": [
    {
     "name": "stdout",
     "output_type": "stream",
     "text": [
      "The increase in pass percentage is : 28.57 %\n"
     ]
    }
   ],
   "source": [
    "# Solution\n",
    "import numpy as np\n",
    "marks = np.array([65,84,47,56,89,98,48,77,80,39])\n",
    "number_of_passed = (marks>=50)  # returns a boolean array with 'true' if condition is fulfilled else returns 'false\n",
    "originally_passed = np.sum(number_of_passed)  # sums all the truth vlaues (boolean values) as 1 if true and 0 if false\n",
    "\n",
    "\n",
    "modified_marks = marks\n",
    "count = 0\n",
    "for mark in modified_marks:\n",
    "    if (mark>=44) and (mark<=49):\n",
    "        modified_marks[count] = mark + 5     # awarding mercy marks for students scoring marks between 45 and 49 (both 45 & 49 included)\n",
    "    \n",
    "    elif (modified_marks[count]>80):\n",
    "        modified_marks[count] = mark + 56    # awarding \"bonus\" marks (5 marks) for students scoring marks above 80 (strictly greater than 80)\n",
    "    \n",
    "    if (modified_marks[count]>100):\n",
    "        modified_marks[count] = 100          # Limiting the maximum marks to 100 after award of bonus marks \n",
    "        \n",
    "    count = count+1\n",
    "\n",
    "# assuming the pass mark as 50\n",
    "\n",
    "num_of_passed_modified = (modified_marks>=50)  # returns a boolean array with 'true' if condition is fulfilled else returns 'false'\n",
    "modified_passes = np.sum(num_of_passed_modified) # sums all the truth vlaues (boolean values) as 1 if true and 0 if false\n",
    "increase_in_passes =  (modified_passes - originally_passed)\n",
    "percentage_increase = np.around((increase_in_passes*100/originally_passed),2)\n",
    "print(f'The increase in pass percentage is : {percentage_increase} %')\n"
   ]
  },
  {
   "cell_type": "markdown",
   "metadata": {},
   "source": [
    "#### 24. Print the time taken for performing the following operation using list and numpy array\n",
    "####       (x(i)^2 +8) / y(i),   where x and y are real integers from 1 to 60000"
   ]
  },
  {
   "cell_type": "code",
   "execution_count": 306,
   "metadata": {},
   "outputs": [
    {
     "name": "stdout",
     "output_type": "stream",
     "text": [
      "The calculuation yields an array : \n",
      " [9.00000000e+00 6.00000000e+00 5.66666667e+00 ... 5.99980001e+04\n",
      " 5.99990001e+04 6.00000001e+04]\n"
     ]
    }
   ],
   "source": [
    "# Solution\n",
    "\n",
    "x = np.arange(1.,60001.) # converted to float \n",
    "y = np.arange(1.,60001.) # converted to float\n",
    "z = ((x**2)+8)/y\n",
    "print(\"The calculuation yields an array : \\n\", z)\n"
   ]
  },
  {
   "cell_type": "markdown",
   "metadata": {},
   "source": [
    "#### 25. Create a Github account and upload your solution with the short write-up on Numpy"
   ]
  },
  {
   "cell_type": "code",
   "execution_count": null,
   "metadata": {},
   "outputs": [],
   "source": [
    "#The Github account has been created this solution has been uploaded.\n",
    "# A short writeup on Numpy is aslo uploaded as a separate PDF file.\n",
    "# The git hub repository details are as under to access the above submittals: \n",
    "# https://github.com/arunkvee/Python_for_DS.git\n",
    "\n"
   ]
  }
 ],
 "metadata": {
  "kernelspec": {
   "display_name": "Python 3",
   "language": "python",
   "name": "python3"
  },
  "language_info": {
   "codemirror_mode": {
    "name": "ipython",
    "version": 3
   },
   "file_extension": ".py",
   "mimetype": "text/x-python",
   "name": "python",
   "nbconvert_exporter": "python",
   "pygments_lexer": "ipython3",
   "version": "3.8.8"
  }
 },
 "nbformat": 4,
 "nbformat_minor": 2
}
